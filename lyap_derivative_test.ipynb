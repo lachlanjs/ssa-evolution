{
 "cells": [
  {
   "cell_type": "markdown",
   "id": "2162919c",
   "metadata": {},
   "source": [
    "# Testing the differential of the Lyapunov function\n",
    "This script serves to check the correctness of the differential of the solution $Y$ to the Lyapunov equation:\n",
    "$$\n",
    "XY + YX^T + C = 0\n",
    "$$\n",
    "with respect to the matrix $X$. \n",
    "\n",
    "The script measures the angle between the predicted direction from the differential expression and the true direction from computing the two solutions\n",
    "\n",
    "The script measures the effect of different initialisation schemes including normal distribution initialisation and stability optimized"
   ]
  },
  {
   "cell_type": "code",
   "execution_count": 18,
   "id": "4033c80f",
   "metadata": {},
   "outputs": [],
   "source": [
    "import numpy as np\n",
    "from scipy.linalg import solve_continuous_lyapunov\n",
    "import matplotlib.pyplot as plt\n",
    "from ssa import optimize_ssa\n",
    "from tqdm import tqdm"
   ]
  },
  {
   "cell_type": "code",
   "execution_count": 19,
   "id": "d36bf27e",
   "metadata": {},
   "outputs": [],
   "source": [
    "def directional_derivative(X: np.array, Y: np.array, V: np.array):    \n",
    "    C = V @ Y + Y @ V.T\n",
    "    return solve_continuous_lyapunov(X, -C)"
   ]
  },
  {
   "cell_type": "code",
   "execution_count": 20,
   "id": "95567bb9",
   "metadata": {},
   "outputs": [],
   "source": [
    "def initialise(scheme: str, n: int):\n",
    "\n",
    "    if scheme == \"normal\":\n",
    "        return np.random.normal(0.0, 1.0, size=(n, n))    \n",
    "    else:\n",
    "        A = np.random.normal(0.0, 1.0, size=(n, n))\n",
    "        A = optimize_ssa(A, eps=0.01, target=-0.1, step_size=1.0, iters=60)[0]\n",
    "        return A\n",
    "    "
   ]
  },
  {
   "cell_type": "code",
   "execution_count": 21,
   "id": "b6303e53",
   "metadata": {},
   "outputs": [],
   "source": [
    "N = 64\n",
    "iters = 100\n",
    "step_size = 1.0\n",
    "init_scheme = \"stable\" # or stable"
   ]
  },
  {
   "cell_type": "code",
   "execution_count": 22,
   "id": "15543fea",
   "metadata": {},
   "outputs": [],
   "source": [
    "thetas = []\n",
    "eigs_r_max = []"
   ]
  },
  {
   "cell_type": "code",
   "execution_count": 23,
   "id": "5f35ed4e",
   "metadata": {},
   "outputs": [
    {
     "name": "stderr",
     "output_type": "stream",
     "text": [
      "100%|██████████| 100/100 [01:36<00:00,  1.04it/s]\n"
     ]
    }
   ],
   "source": [
    "for iter_idx in tqdm(range(iters)):\n",
    "    # choose random matrix C\n",
    "    # C = np.random.normal(0.0, 1.0, size=(N, N))\n",
    "    C = np.identity(N)\n",
    "\n",
    "    # choose random matrix X_0\n",
    "    X_0 = initialise(init_scheme, N)\n",
    "\n",
    "    # check that the matrix X_0 is invertible\n",
    "    if (np.min(np.absolute(np.linalg.eigvals(X_0)))) < 0.1:\n",
    "        print(\"not good invertibility\")\n",
    "        iter_idx -= 1\n",
    "        continue\n",
    "\n",
    "    # if stable, check if what the maximum eigenvalue was\n",
    "    if init_scheme == \"stable\":\n",
    "        eigs_r_max.append(np.max(np.real(np.linalg.eigvals(X_0))))\n",
    "\n",
    "    # make perturbation X_1 = X_0 + V \n",
    "    # for some random V\n",
    "    # and check that the new $X_1$ is invertible\n",
    "    V = np.random.normal(0.0, step_size, size=(N, N))\n",
    "    V = V / np.linalg.norm(np.ravel(V))\n",
    "    V *= step_size\n",
    "\n",
    "    # NOTE: central finite difference\n",
    "    X_1 = X_0 + (0.5 * V)\n",
    "    X_2 = X_0 - (0.5 * V)\n",
    "    if (np.min(np.absolute(np.linalg.eigvals(X_1)))) < 0.05:\n",
    "        print(\"not good invertibility\")\n",
    "        iter_idx -= 1\n",
    "        continue\n",
    "\n",
    "    # find solution Y_0\n",
    "    Y_0 = solve_continuous_lyapunov(X_0, -C)\n",
    "\n",
    "    # find solution Y_1 and Y_2\n",
    "    Y_1 = solve_continuous_lyapunov(X_1, -C)\n",
    "    Y_2 = solve_continuous_lyapunov(X_2, -C)\n",
    "\n",
    "    D = Y_1 - Y_2\n",
    "\n",
    "    # find the directional derivative\n",
    "    dydx = directional_derivative(X_0, Y_0, V)\n",
    "\n",
    "    # see if Y_1 - Y_2 is in the same direction as the directional derivative\n",
    "    vec_D = np.ravel(D)\n",
    "    vec_dydx = np.ravel(dydx)\n",
    "\n",
    "    theta = np.arccos(np.dot(vec_D, vec_dydx) / (np.linalg.norm(vec_D) * np.linalg.norm(vec_dydx)))\n",
    "\n",
    "    theta = theta * 180 / np.pi\n",
    "\n",
    "    thetas.append(theta)"
   ]
  },
  {
   "cell_type": "code",
   "execution_count": 24,
   "id": "a6954bb2",
   "metadata": {},
   "outputs": [
    {
     "data": {
      "text/plain": [
       "(array([ 5.,  9., 13., 18., 17., 13.,  6.,  6.,  5.,  0.,  4.,  0.,  1.,\n",
       "         1.,  0.,  0.,  0.,  1.,  0.,  0.,  0.,  0.,  0.,  0.,  1.]),\n",
       " array([0.01957357, 0.03224293, 0.04491228, 0.05758164, 0.070251  ,\n",
       "        0.08292035, 0.09558971, 0.10825906, 0.12092842, 0.13359777,\n",
       "        0.14626713, 0.15893649, 0.17160584, 0.1842752 , 0.19694455,\n",
       "        0.20961391, 0.22228327, 0.23495262, 0.24762198, 0.26029133,\n",
       "        0.27296069, 0.28563005, 0.2982994 , 0.31096876, 0.32363811,\n",
       "        0.33630747]),\n",
       " <BarContainer object of 25 artists>)"
      ]
     },
     "execution_count": 24,
     "metadata": {},
     "output_type": "execute_result"
    },
    {
     "data": {
      "image/png": "[encoded data removed]",
      "text/plain": [
       "<Figure size 640x480 with 1 Axes>"
      ]
     },
     "metadata": {},
     "output_type": "display_data"
    }
   ],
   "source": [
    "plt.hist(thetas, bins=25)"
   ]
  },
  {
   "cell_type": "code",
   "execution_count": 25,
   "id": "acf5c1ba",
   "metadata": {},
   "outputs": [
    {
     "data": {
      "text/plain": [
       "[-0.44089383207943444,\n",
       " -0.24233307612093313,\n",
       " -0.2906318872951028,\n",
       " -0.4128231769863342,\n",
       " -0.2556102875336514,\n",
       " -0.489151376661566,\n",
       " -0.4840125487079783,\n",
       " -0.2794990896115438,\n",
       " -0.4743615352076046,\n",
       " -0.2658824868748705,\n",
       " -0.1896817684106364,\n",
       " -0.2128595889798255,\n",
       " -0.4032212801065794,\n",
       " -0.3354091937456736,\n",
       " -0.45450658670442506,\n",
       " -0.40890021197572857,\n",
       " -0.3965296636264879,\n",
       " -0.19211901604649284,\n",
       " -0.48443372646854777,\n",
       " -0.3750300615646355,\n",
       " -0.3398903125194767,\n",
       " -0.34103494653364136,\n",
       " -0.21270698451439063,\n",
       " -0.13823309024878128,\n",
       " -0.3982135569993488,\n",
       " -0.41303079701605294,\n",
       " -0.5154990565852008,\n",
       " -0.4478543940108956,\n",
       " -0.2961296211520592,\n",
       " -0.24787841062315935,\n",
       " -0.25939402578125836,\n",
       " -0.15476634581787213,\n",
       " -0.48322026263327855,\n",
       " -0.39317213329379475,\n",
       " -0.6126009018547003,\n",
       " -0.35089263508449975,\n",
       " -0.32831403911599577,\n",
       " -0.446285541111035,\n",
       " -0.25369634362330223,\n",
       " -0.5627070199808457,\n",
       " -0.5007889575472504,\n",
       " -0.26825932919874373,\n",
       " -0.39351082878741817,\n",
       " -0.34374408724888006,\n",
       " -0.41137491284322913,\n",
       " -0.5359555550261192,\n",
       " -0.4580316314399211,\n",
       " -0.40154166372665406,\n",
       " -0.21333358973920974,\n",
       " -0.5299253868757359,\n",
       " -0.32008422819706783,\n",
       " -0.40468047979421157,\n",
       " -0.2785349779491073,\n",
       " -0.2625156980206428,\n",
       " -0.27187880484622495,\n",
       " -0.5073044449900143,\n",
       " -0.1649040771407746,\n",
       " -0.34574240385686444,\n",
       " -0.48873016809907555,\n",
       " -0.36081054068203394,\n",
       " -0.30750639051486395,\n",
       " -0.37863172524882516,\n",
       " -0.6321756718589195,\n",
       " -0.5451151223161477,\n",
       " -0.32918581499543886,\n",
       " -0.17325612149909678,\n",
       " -0.4883192844762525,\n",
       " -0.4517493831275948,\n",
       " -0.38223836721910176,\n",
       " -0.5002902983145683,\n",
       " -0.43013886634869847,\n",
       " -0.3654414131228473,\n",
       " -0.3554780630516827,\n",
       " -0.29311714252890203,\n",
       " -0.4257675840892651,\n",
       " -0.4854353768811098,\n",
       " -0.5082276027402959,\n",
       " -0.37894561345132455,\n",
       " -0.47064277832344187,\n",
       " -0.10795413695367076,\n",
       " -0.6417111651692731,\n",
       " -0.4256517997861761,\n",
       " -0.5102071880951196,\n",
       " -0.2491566317496644,\n",
       " -0.5307217182278625,\n",
       " -0.3425998165727898,\n",
       " -0.2678139207953249,\n",
       " -0.3601490743263191,\n",
       " -0.21741516591426643,\n",
       " -0.18844405136431447,\n",
       " -0.14563539669879724,\n",
       " -0.6288981043295472,\n",
       " -0.2560758681116679,\n",
       " -0.5024101897849667,\n",
       " -0.3347957275683441,\n",
       " -0.47143958829155796,\n",
       " -0.4920238979532334,\n",
       " -0.46801905390879595,\n",
       " -0.5205838501963145,\n",
       " -0.2507260801824941]"
      ]
     },
     "execution_count": 25,
     "metadata": {},
     "output_type": "execute_result"
    }
   ],
   "source": [
    "eigs_r_max"
   ]
  }
 ],
 "metadata": {
  "kernelspec": {
   "display_name": "dspy311",
   "language": "python",
   "name": "python3"
  },
  "language_info": {
   "codemirror_mode": {
    "name": "ipython",
    "version": 3
   },
   "file_extension": ".py",
   "mimetype": "text/x-python",
   "name": "python",
   "nbconvert_exporter": "python",
   "pygments_lexer": "ipython3",
   "version": "3.11.0"
  }
 },
 "nbformat": 4,
 "nbformat_minor": 5
}
