{
 "cells": [
  {
   "cell_type": "markdown",
   "id": "2162919c",
   "metadata": {},
   "source": [
    "# Testing the differential of the Lyapunov function\n",
    "This script serves to check the correctness of the differential of the solution $Y$ to the Lyapunov equation:\n",
    "$$\n",
    "XY + YX^T + C = 0\n",
    "$$\n",
    "with respect to the matrix $X$. \n",
    "\n",
    "The script measures the angle between the predicted direction from the differential expression and the true direction from computing the two solutions\n",
    "\n",
    "The script measures the effect of different initialisation schemes including normal distribution initialisation and stability optimized"
   ]
  },
  {
   "cell_type": "code",
   "execution_count": 1,
   "id": "4033c80f",
   "metadata": {},
   "outputs": [],
   "source": [
    "import numpy as np\n",
    "from scipy.linalg import solve_continuous_lyapunov\n",
    "import matplotlib.pyplot as plt\n",
    "from ssa import optimize_ssa\n",
    "from tqdm import tqdm"
   ]
  },
  {
   "cell_type": "code",
   "execution_count": null,
   "id": "d36bf27e",
   "metadata": {},
   "outputs": [],
   "source": [
    "def directional_derivative(X: np.array, Y: np.array, V: np.array):    \n",
    "    C = V @ Y + Y @ V.T\n",
    "    return solve_continuous_lyapunov(X, -C)"
   ]
  },
  {
   "cell_type": "code",
   "execution_count": 3,
   "id": "95567bb9",
   "metadata": {},
   "outputs": [],
   "source": [
    "def initialise(scheme: str, n: int):\n",
    "\n",
    "    if scheme == \"normal\":\n",
    "        return np.random.normal(0.0, 1.0, size=(n, n))    \n",
    "    else:\n",
    "        A = np.random.normal(0.0, 1.0, size=(n, n))\n",
    "        A = optimize_ssa(A, eps=0.01, target=-0.1, step_size=1.0, iters=60)[0]\n",
    "        return A\n",
    "    "
   ]
  },
  {
   "cell_type": "code",
   "execution_count": 4,
   "id": "b6303e53",
   "metadata": {},
   "outputs": [],
   "source": [
    "N = 64\n",
    "iters = 100\n",
    "step_size = 1.0\n",
    "init_scheme = \"stable\" # or stable"
   ]
  },
  {
   "cell_type": "code",
   "execution_count": 5,
   "id": "15543fea",
   "metadata": {},
   "outputs": [],
   "source": [
    "thetas = []\n",
    "eigs_r_max = []"
   ]
  },
  {
   "cell_type": "code",
   "execution_count": 6,
   "id": "5f35ed4e",
   "metadata": {},
   "outputs": [
    {
     "name": "stderr",
     "output_type": "stream",
     "text": [
      "  0%|          | 0/100 [00:00<?, ?it/s]"
     ]
    },
    {
     "name": "stderr",
     "output_type": "stream",
     "text": [
      " 10%|█         | 10/100 [00:09<01:26,  1.04it/s]"
     ]
    },
    {
     "name": "stdout",
     "output_type": "stream",
     "text": [
      "DID NOT CONVERGE\n"
     ]
    },
    {
     "name": "stderr",
     "output_type": "stream",
     "text": [
      " 26%|██▌       | 26/100 [00:25<01:12,  1.02it/s]"
     ]
    },
    {
     "name": "stdout",
     "output_type": "stream",
     "text": [
      "DID NOT CONVERGE\n"
     ]
    },
    {
     "name": "stderr",
     "output_type": "stream",
     "text": [
      "100%|██████████| 100/100 [01:36<00:00,  1.03it/s]\n"
     ]
    }
   ],
   "source": [
    "for iter_idx in tqdm(range(iters)):\n",
    "    # choose random matrix C\n",
    "    # C = np.random.normal(0.0, 1.0, size=(N, N))\n",
    "    C = np.identity(N)\n",
    "\n",
    "    # choose random matrix X_0\n",
    "    X_0 = initialise(init_scheme, N)\n",
    "\n",
    "    # check that the matrix X_0 is invertible\n",
    "    if (np.min(np.absolute(np.linalg.eigvals(X_0)))) < 0.1:\n",
    "        print(\"not good invertibility\")\n",
    "        iter_idx -= 1\n",
    "        continue\n",
    "\n",
    "    # if stable, check if what the maximum eigenvalue was\n",
    "    if init_scheme == \"stable\":\n",
    "        eigs_r_max.append(np.max(np.real(np.linalg.eigvals(X_0))))\n",
    "\n",
    "    # make perturbation X_1 = X_0 + V \n",
    "    # for some random V\n",
    "    # and check that the new $X_1$ is invertible\n",
    "    V = np.random.normal(0.0, step_size, size=(N, N))\n",
    "    V = V / np.linalg.norm(np.ravel(V))\n",
    "    V *= step_size\n",
    "\n",
    "    X_1 = X_0 + V\n",
    "    if (np.min(np.absolute(np.linalg.eigvals(X_1)))) < 0.05:\n",
    "        print(\"not good invertibility\")\n",
    "        iter_idx -= 1\n",
    "        continue\n",
    "\n",
    "    # find solution Y_0\n",
    "    Y_0 = solve_continuous_lyapunov(X_0, -C)\n",
    "\n",
    "    # find solution Y_1\n",
    "    Y_1 = solve_continuous_lyapunov(X_1, -C)\n",
    "\n",
    "    D = Y_1 - Y_0\n",
    "\n",
    "    # find the directional derivative\n",
    "    dydx = directional_derivative(X_0, Y_0, V)\n",
    "\n",
    "    # see if Y_1 - Y_0 is in the same direction as the directional derivative\n",
    "    vec_D = np.ravel(D)\n",
    "    vec_dydx = np.ravel(dydx)\n",
    "\n",
    "    theta = np.arccos(np.dot(vec_D, vec_dydx) / (np.linalg.norm(vec_D) * np.linalg.norm(vec_dydx)))\n",
    "\n",
    "    theta = theta * 180 / np.pi\n",
    "\n",
    "    thetas.append(theta)"
   ]
  },
  {
   "cell_type": "code",
   "execution_count": 7,
   "id": "a6954bb2",
   "metadata": {},
   "outputs": [
    {
     "data": {
      "text/plain": [
       "(array([1., 0., 0., 1., 0., 1., 0., 0., 1., 0., 0., 0., 0., 1., 0., 0., 0.,\n",
       "        0., 0., 0., 0., 0., 1., 2., 1., 0., 0., 0., 0., 0., 0., 0., 0., 0.,\n",
       "        0., 1., 1., 0., 1., 2., 1., 3., 0., 2., 0., 0., 2., 1., 1., 2., 1.,\n",
       "        1., 1., 1., 1., 1., 1., 2., 1., 2., 2., 2., 0., 0., 2., 1., 1., 3.,\n",
       "        1., 1., 1., 1., 3., 1., 2., 2., 0., 2., 0., 0., 2., 2., 2., 1., 2.,\n",
       "        1., 1., 1., 1., 0., 1., 2., 0., 2., 2., 0., 0., 1., 1., 1., 1., 2.,\n",
       "        1., 1., 0., 1., 0., 0., 0., 0., 0., 0., 0., 0., 0., 0., 1., 0., 0.,\n",
       "        0., 0., 1., 0., 0., 0., 0., 0., 0., 0., 0., 0., 0., 0., 0., 0., 0.,\n",
       "        0., 0., 0., 1., 0., 0., 0., 0., 0., 0., 0., 0., 0., 0., 0., 1., 0.,\n",
       "        0., 1., 0., 0., 0., 0., 0., 0., 2., 0., 0., 0., 0., 0., 0., 0., 0.,\n",
       "        0., 0., 0., 0., 0., 0., 0., 0., 0., 0., 0., 0., 0., 0., 0., 0., 0.,\n",
       "        0., 0., 0., 0., 0., 0., 0., 0., 0., 0., 0., 0., 1.]),\n",
       " array([ 1.64232764,  1.69606851,  1.74980937,  1.80355024,  1.8572911 ,\n",
       "         1.91103197,  1.96477283,  2.01851369,  2.07225456,  2.12599542,\n",
       "         2.17973629,  2.23347715,  2.28721801,  2.34095888,  2.39469974,\n",
       "         2.44844061,  2.50218147,  2.55592233,  2.6096632 ,  2.66340406,\n",
       "         2.71714493,  2.77088579,  2.82462665,  2.87836752,  2.93210838,\n",
       "         2.98584925,  3.03959011,  3.09333097,  3.14707184,  3.2008127 ,\n",
       "         3.25455357,  3.30829443,  3.3620353 ,  3.41577616,  3.46951702,\n",
       "         3.52325789,  3.57699875,  3.63073962,  3.68448048,  3.73822134,\n",
       "         3.79196221,  3.84570307,  3.89944394,  3.9531848 ,  4.00692566,\n",
       "         4.06066653,  4.11440739,  4.16814826,  4.22188912,  4.27562998,\n",
       "         4.32937085,  4.38311171,  4.43685258,  4.49059344,  4.5443343 ,\n",
       "         4.59807517,  4.65181603,  4.7055569 ,  4.75929776,  4.81303863,\n",
       "         4.86677949,  4.92052035,  4.97426122,  5.02800208,  5.08174295,\n",
       "         5.13548381,  5.18922467,  5.24296554,  5.2967064 ,  5.35044727,\n",
       "         5.40418813,  5.45792899,  5.51166986,  5.56541072,  5.61915159,\n",
       "         5.67289245,  5.72663331,  5.78037418,  5.83411504,  5.88785591,\n",
       "         5.94159677,  5.99533764,  6.0490785 ,  6.10281936,  6.15656023,\n",
       "         6.21030109,  6.26404196,  6.31778282,  6.37152368,  6.42526455,\n",
       "         6.47900541,  6.53274628,  6.58648714,  6.640228  ,  6.69396887,\n",
       "         6.74770973,  6.8014506 ,  6.85519146,  6.90893232,  6.96267319,\n",
       "         7.01641405,  7.07015492,  7.12389578,  7.17763664,  7.23137751,\n",
       "         7.28511837,  7.33885924,  7.3926001 ,  7.44634097,  7.50008183,\n",
       "         7.55382269,  7.60756356,  7.66130442,  7.71504529,  7.76878615,\n",
       "         7.82252701,  7.87626788,  7.93000874,  7.98374961,  8.03749047,\n",
       "         8.09123133,  8.1449722 ,  8.19871306,  8.25245393,  8.30619479,\n",
       "         8.35993565,  8.41367652,  8.46741738,  8.52115825,  8.57489911,\n",
       "         8.62863997,  8.68238084,  8.7361217 ,  8.78986257,  8.84360343,\n",
       "         8.8973443 ,  8.95108516,  9.00482602,  9.05856689,  9.11230775,\n",
       "         9.16604862,  9.21978948,  9.27353034,  9.32727121,  9.38101207,\n",
       "         9.43475294,  9.4884938 ,  9.54223466,  9.59597553,  9.64971639,\n",
       "         9.70345726,  9.75719812,  9.81093898,  9.86467985,  9.91842071,\n",
       "         9.97216158, 10.02590244, 10.0796433 , 10.13338417, 10.18712503,\n",
       "        10.2408659 , 10.29460676, 10.34834763, 10.40208849, 10.45582935,\n",
       "        10.50957022, 10.56331108, 10.61705195, 10.67079281, 10.72453367,\n",
       "        10.77827454, 10.8320154 , 10.88575627, 10.93949713, 10.99323799,\n",
       "        11.04697886, 11.10071972, 11.15446059, 11.20820145, 11.26194231,\n",
       "        11.31568318, 11.36942404, 11.42316491, 11.47690577, 11.53064664,\n",
       "        11.5843875 , 11.63812836, 11.69186923, 11.74561009, 11.79935096,\n",
       "        11.85309182, 11.90683268, 11.96057355, 12.01431441, 12.06805528,\n",
       "        12.12179614, 12.175537  , 12.22927787, 12.28301873, 12.3367596 ,\n",
       "        12.39050046]),\n",
       " <BarContainer object of 200 artists>)"
      ]
     },
     "execution_count": 7,
     "metadata": {},
     "output_type": "execute_result"
    },
    {
     "data": {
      "image/png": "[encoded data removed]",
      "text/plain": [
       "<Figure size 640x480 with 1 Axes>"
      ]
     },
     "metadata": {},
     "output_type": "display_data"
    }
   ],
   "source": [
    "plt.hist(thetas, bins=200)"
   ]
  },
  {
   "cell_type": "code",
   "execution_count": 8,
   "id": "acf5c1ba",
   "metadata": {},
   "outputs": [
    {
     "data": {
      "text/plain": [
       "[-0.5633101568994758,\n",
       " -0.38542360927886343,\n",
       " -0.3673296843214825,\n",
       " -0.30210773053309026,\n",
       " -0.39364728387131265,\n",
       " -0.385594423300028,\n",
       " -0.14714979308085616,\n",
       " -0.4106379937889907,\n",
       " -0.27769514855297633,\n",
       " -0.2865770567826889,\n",
       " -0.16090341844469827,\n",
       " -0.1576842437766947,\n",
       " -0.4322157587737257,\n",
       " -0.164507234422415,\n",
       " -0.2893232719686999,\n",
       " -0.19351521056167575,\n",
       " -0.22218249581419652,\n",
       " -0.648024468923428,\n",
       " -0.4255298584815391,\n",
       " -0.5290771082498015,\n",
       " -0.2493121702761501,\n",
       " -0.5214939481936793,\n",
       " -0.3504929334307265,\n",
       " -0.591033971009759,\n",
       " -0.20998707116756274,\n",
       " -0.23183196110697976,\n",
       " -0.1313441479299195,\n",
       " -0.26229866304362603,\n",
       " -0.5787004586342166,\n",
       " -0.24560073087983744,\n",
       " -0.29767718500241,\n",
       " -0.24228392539232732,\n",
       " -0.5906450382743745,\n",
       " -0.4740451034700731,\n",
       " -0.18830901829098656,\n",
       " -0.3604956884956554,\n",
       " -0.3604147765819141,\n",
       " -0.45111340651035975,\n",
       " -0.25057513254077013,\n",
       " -0.22257006933464174,\n",
       " -0.5016816082313711,\n",
       " -0.32646752102283316,\n",
       " -0.3830580473358196,\n",
       " -0.20591079321191758,\n",
       " -0.33337143727449176,\n",
       " -0.35868849622328536,\n",
       " -0.36800100993490215,\n",
       " -0.34866741882599805,\n",
       " -0.35725631084258236,\n",
       " -0.5970107678715786,\n",
       " -0.3158486497093471,\n",
       " -0.3855926439617291,\n",
       " -0.5339971473654117,\n",
       " -0.5590676194070757,\n",
       " -0.4342221002853912,\n",
       " -0.218528941807757,\n",
       " -0.30912227173731566,\n",
       " -0.48574266976353997,\n",
       " -0.511827241306281,\n",
       " -0.4931722490277916,\n",
       " -0.3628693526170157,\n",
       " -0.4715248487053218,\n",
       " -0.36397196531026543,\n",
       " -0.5414875233545567,\n",
       " -0.5261476213782956,\n",
       " -0.3379258400777728,\n",
       " -0.37340481521012336,\n",
       " -0.244412320815399,\n",
       " -0.2057041963741823,\n",
       " -0.3764952242340299,\n",
       " -0.38921317712674885,\n",
       " -0.43419508276161467,\n",
       " -0.4786359829718493,\n",
       " -0.21149964574254548,\n",
       " -0.23127741156176612,\n",
       " -0.2854526311874188,\n",
       " -0.22742757984364564,\n",
       " -0.17551756977069372,\n",
       " -0.12419865920915144,\n",
       " -0.41117100517394534,\n",
       " -0.1450582678794233,\n",
       " -0.20192421473143923,\n",
       " -0.4837495056102716,\n",
       " -0.17116375375320708,\n",
       " -0.23660861092325688,\n",
       " -0.1874001135854623,\n",
       " -0.2149454640719978,\n",
       " -0.3918829950193161,\n",
       " -0.3183792510994013,\n",
       " -0.31645725622805004,\n",
       " -0.4395566700165434,\n",
       " -0.524806723141092,\n",
       " -0.38272218041889905,\n",
       " -0.22717805464537105,\n",
       " -0.6458638158108786,\n",
       " -0.3737819866027672,\n",
       " -0.24280390017580286,\n",
       " -0.3175840676081195,\n",
       " -0.46651830560093077,\n",
       " -0.3059064919650698]"
      ]
     },
     "execution_count": 8,
     "metadata": {},
     "output_type": "execute_result"
    }
   ],
   "source": [
    "eigs_r_max"
   ]
  }
 ],
 "metadata": {
  "kernelspec": {
   "display_name": "dspy311",
   "language": "python",
   "name": "python3"
  },
  "language_info": {
   "codemirror_mode": {
    "name": "ipython",
    "version": 3
   },
   "file_extension": ".py",
   "mimetype": "text/x-python",
   "name": "python",
   "nbconvert_exporter": "python",
   "pygments_lexer": "ipython3",
   "version": "3.11.0"
  }
 },
 "nbformat": 4,
 "nbformat_minor": 5
}
