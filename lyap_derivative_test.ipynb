{
 "cells": [
  {
   "cell_type": "markdown",
   "id": "2162919c",
   "metadata": {},
   "source": [
    "# Testing the differential of the Lyapunov function\n",
    "This script serves to check the correctness of the differential of the solution $Y$ to the Lyapunov equation:\n",
    "$$\n",
    "XY + YX^T + C = 0\n",
    "$$\n",
    "with respect to the matrix $X$. \n",
    "\n",
    "The script measures the angle between the predicted direction from the differential expression and the true direction from computing the two solutions\n",
    "\n",
    "The script measures the effect of different initialisation schemes including normal distribution initialisation and stability optimized"
   ]
  },
  {
   "cell_type": "code",
   "execution_count": 9,
   "id": "4033c80f",
   "metadata": {},
   "outputs": [],
   "source": [
    "import numpy as np\n",
    "from scipy.linalg import solve_continuous_lyapunov\n",
    "import matplotlib.pyplot as plt\n",
    "from ssa import optimize_ssa\n",
    "from tqdm import tqdm"
   ]
  },
  {
   "cell_type": "code",
   "execution_count": 10,
   "id": "d36bf27e",
   "metadata": {},
   "outputs": [],
   "source": [
    "def directional_derivative(X: np.array, Y: np.array, V: np.array):    \n",
    "    C = V @ Y + Y @ V.T\n",
    "    return solve_continuous_lyapunov(X, -C)"
   ]
  },
  {
   "cell_type": "code",
   "execution_count": 11,
   "id": "95567bb9",
   "metadata": {},
   "outputs": [],
   "source": [
    "def initialise(scheme: str, n: int):\n",
    "\n",
    "    if scheme == \"normal\":\n",
    "        return np.random.normal(0.0, 1.0, size=(n, n))    \n",
    "    else:\n",
    "        A = np.random.normal(0.0, 1.0, size=(n, n))\n",
    "        A = optimize_ssa(A, eps=0.01, target=-0.1, step_size=1.0, iters=60)[0]\n",
    "        return A\n",
    "    "
   ]
  },
  {
   "cell_type": "code",
   "execution_count": 12,
   "id": "b6303e53",
   "metadata": {},
   "outputs": [],
   "source": [
    "N = 64\n",
    "iters = 100\n",
    "step_size = 1.0\n",
    "init_scheme = \"stable\" # or stable"
   ]
  },
  {
   "cell_type": "code",
   "execution_count": 13,
   "id": "15543fea",
   "metadata": {},
   "outputs": [],
   "source": [
    "thetas = []\n",
    "eigs_r_max = []"
   ]
  },
  {
   "cell_type": "code",
   "execution_count": null,
   "id": "5f35ed4e",
   "metadata": {},
   "outputs": [
    {
     "name": "stderr",
     "output_type": "stream",
     "text": [
      "100%|██████████| 100/100 [01:37<00:00,  1.03it/s]\n"
     ]
    }
   ],
   "source": [
    "for iter_idx in tqdm(range(iters)):\n",
    "    # choose random matrix C\n",
    "    # C = np.random.normal(0.0, 1.0, size=(N, N))\n",
    "    C = np.identity(N)\n",
    "\n",
    "    # choose random matrix X_0\n",
    "    X_0 = initialise(init_scheme, N)\n",
    "\n",
    "    # check that the matrix X_0 is invertible\n",
    "    if (np.min(np.absolute(np.linalg.eigvals(X_0)))) < 0.1:\n",
    "        print(\"not good invertibility\")\n",
    "        iter_idx -= 1\n",
    "        continue\n",
    "\n",
    "    # if stable, check if what the maximum eigenvalue was\n",
    "    if init_scheme == \"stable\":\n",
    "        eigs_r_max.append(np.max(np.real(np.linalg.eigvals(X_0))))\n",
    "\n",
    "    # make perturbation X_1 = X_0 + V \n",
    "    # for some random V\n",
    "    # and check that the new $X_1$ is invertible\n",
    "    V = np.random.normal(0.0, step_size, size=(N, N))\n",
    "    V = V / np.linalg.norm(np.ravel(V))\n",
    "    V *= step_size\n",
    "\n",
    "    # NOTE: central finite difference\n",
    "    X_1 = X_0 + (0.5 * V)\n",
    "    X_2 = X_0 - (0.5 * V)\n",
    "    if (np.min(np.absolute(np.linalg.eigvals(X_1)))) < 0.05:\n",
    "        print(\"not good invertibility\")\n",
    "        iter_idx -= 1\n",
    "        continue\n",
    "\n",
    "    # find solution Y_0\n",
    "    Y_0 = solve_continuous_lyapunov(X_0, -C)\n",
    "\n",
    "    # find solution Y_1 and Y_2\n",
    "    Y_1 = solve_continuous_lyapunov(X_1, -C)\n",
    "    Y_2 = solve_continuous_lyapunov(X_2, -C)\n",
    "\n",
    "    D = Y_1 - Y_2\n",
    "\n",
    "    # find the directional derivative\n",
    "    dydx = directional_derivative(X_0, Y_0, V)\n",
    "\n",
    "    # see if Y_1 - Y_2 is in the same direction as the directional derivative\n",
    "    vec_D = np.ravel(D)\n",
    "    vec_dydx = np.ravel(dydx)\n",
    "\n",
    "    theta = np.arccos(np.dot(vec_D, vec_dydx) / (np.linalg.norm(vec_D) * np.linalg.norm(vec_dydx)))\n",
    "\n",
    "    theta = theta * 180 / np.pi\n",
    "\n",
    "    thetas.append(theta)"
   ]
  },
  {
   "cell_type": "code",
   "execution_count": 17,
   "id": "a6954bb2",
   "metadata": {},
   "outputs": [
    {
     "data": {
      "text/plain": [
       "(array([ 2.,  1.,  2.,  3.,  5.,  9.,  9., 15., 12., 13.,  6.,  9.,  6.,\n",
       "         3.,  1.,  2.,  0.,  0.,  0.,  1.,  0.,  0.,  0.,  0.,  1.]),\n",
       " array([ 1.31618518,  1.77031504,  2.22444491,  2.67857478,  3.13270464,\n",
       "         3.58683451,  4.04096437,  4.49509424,  4.94922411,  5.40335397,\n",
       "         5.85748384,  6.31161371,  6.76574357,  7.21987344,  7.67400331,\n",
       "         8.12813317,  8.58226304,  9.0363929 ,  9.49052277,  9.94465264,\n",
       "        10.3987825 , 10.85291237, 11.30704224, 11.7611721 , 12.21530197,\n",
       "        12.66943184]),\n",
       " <BarContainer object of 25 artists>)"
      ]
     },
     "execution_count": 17,
     "metadata": {},
     "output_type": "execute_result"
    },
    {
     "data": {
      "image/png": "[encoded data removed]",
      "text/plain": [
       "<Figure size 640x480 with 1 Axes>"
      ]
     },
     "metadata": {},
     "output_type": "display_data"
    }
   ],
   "source": [
    "plt.hist(thetas, bins=25)"
   ]
  },
  {
   "cell_type": "code",
   "execution_count": 16,
   "id": "acf5c1ba",
   "metadata": {},
   "outputs": [
    {
     "data": {
      "text/plain": [
       "[-0.37845764439603313,\n",
       " -0.3157225998590989,\n",
       " -0.42691883009922443,\n",
       " -0.42195038732153667,\n",
       " -0.3236236332686613,\n",
       " -0.18159722656364782,\n",
       " -0.38507670481139267,\n",
       " -0.2316546342138704,\n",
       " -0.22203391732364594,\n",
       " -0.31823420383960765,\n",
       " -0.16619523511834522,\n",
       " -0.4436721069288956,\n",
       " -0.3939669883088306,\n",
       " -0.49049032189542363,\n",
       " -0.37335310366751406,\n",
       " -0.3897023054531118,\n",
       " -0.5415360992933713,\n",
       " -0.29570318921395733,\n",
       " -0.36988667258857566,\n",
       " -0.1772221442098652,\n",
       " -0.280403504871202,\n",
       " -0.5216111449455516,\n",
       " -0.5118829410322102,\n",
       " -0.4319012999947768,\n",
       " -0.5437887378857925,\n",
       " -0.29901602584626374,\n",
       " -0.5323584582516585,\n",
       " -0.2827254294790461,\n",
       " -0.2617107683743979,\n",
       " -0.2524407919689167,\n",
       " -0.1639494140176509,\n",
       " -0.39083230725499674,\n",
       " -0.33999194455577997,\n",
       " -0.14531457038016948,\n",
       " -0.6133042157105814,\n",
       " -0.45645642200239134,\n",
       " -0.4857499445164507,\n",
       " -0.3892946564767716,\n",
       " -0.3326845900793196,\n",
       " -0.22170064986779978,\n",
       " -0.43668787845434986,\n",
       " -0.14375944526035783,\n",
       " -0.3098307515202985,\n",
       " -0.30441986423708756,\n",
       " -0.300608800007365,\n",
       " -0.46777087065039435,\n",
       " -0.540450419667036,\n",
       " -0.4557739887557263,\n",
       " -0.348014250772756,\n",
       " -0.4047767668392722,\n",
       " -0.49539055719831426,\n",
       " -0.45772865747660685,\n",
       " -0.3177370309512916,\n",
       " -0.4907263313322109,\n",
       " -0.17849809399787414,\n",
       " -0.14408727197694882,\n",
       " -0.5058762040148361,\n",
       " -0.5884466424249859,\n",
       " -0.5188409174734585,\n",
       " -0.5248342009985346,\n",
       " -0.3788892777507864,\n",
       " -0.19314404932097828,\n",
       " -0.5797688291689334,\n",
       " -0.4031374565785588,\n",
       " -0.37310749043491187,\n",
       " -0.6288447907518062,\n",
       " -0.346562743135841,\n",
       " -0.3874975090379159,\n",
       " -0.5029859435765643,\n",
       " -0.22841103226493176,\n",
       " -0.17100598844879364,\n",
       " -0.3665273002100444,\n",
       " -0.3405446086716575,\n",
       " -0.28317512069913175,\n",
       " -0.6014484343713666,\n",
       " -0.3765064396770258,\n",
       " -0.2530660996730623,\n",
       " -0.5144507907433956,\n",
       " -0.5205115060415024,\n",
       " -0.3387159124987112,\n",
       " -0.23116434995087531,\n",
       " -0.6303718262223494,\n",
       " -0.3435380720189279,\n",
       " -0.22584489587727283,\n",
       " -0.1825396002423471,\n",
       " -0.41250342038456367,\n",
       " -0.4010387652128454,\n",
       " -0.3318075282008818,\n",
       " -0.2650541871269563,\n",
       " -0.6589689114720082,\n",
       " -0.5006619613717249,\n",
       " -0.5527877241630255,\n",
       " -0.5563271954655584,\n",
       " -0.4595017898032965,\n",
       " -0.5197336118365111,\n",
       " -0.24262645177871728,\n",
       " -0.5425765761461108,\n",
       " -0.2615058350660129,\n",
       " -0.559273925442047,\n",
       " -0.5075376532398501]"
      ]
     },
     "execution_count": 16,
     "metadata": {},
     "output_type": "execute_result"
    }
   ],
   "source": [
    "eigs_r_max"
   ]
  }
 ],
 "metadata": {
  "kernelspec": {
   "display_name": "dspy311",
   "language": "python",
   "name": "python3"
  },
  "language_info": {
   "codemirror_mode": {
    "name": "ipython",
    "version": 3
   },
   "file_extension": ".py",
   "mimetype": "text/x-python",
   "name": "python",
   "nbconvert_exporter": "python",
   "pygments_lexer": "ipython3",
   "version": "3.11.0"
  }
 },
 "nbformat": 4,
 "nbformat_minor": 5
}
