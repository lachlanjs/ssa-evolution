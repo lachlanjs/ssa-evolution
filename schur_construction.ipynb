{
 "cells": [
  {
   "cell_type": "code",
   "execution_count": null,
   "id": "cbe7fb4e",
   "metadata": {},
   "outputs": [],
   "source": [
    "import numpy as np\n",
    "import pymanopt\n",
    "from pymanopt.manifolds import Product, Stiefel, Grassmann, Euclidean"
   ]
  },
  {
   "cell_type": "code",
   "execution_count": 2,
   "id": "bd0a8041",
   "metadata": {},
   "outputs": [],
   "source": [
    "n=32"
   ]
  },
  {
   "cell_type": "code",
   "execution_count": 6,
   "id": "5bebb981",
   "metadata": {},
   "outputs": [
    {
     "ename": "ValueError",
     "evalue": "Nested product manifolds are not supported",
     "output_type": "error",
     "traceback": [
      "\u001b[0;31m---------------------------------------------------------------------------\u001b[0m",
      "\u001b[0;31mValueError\u001b[0m                                Traceback (most recent call last)",
      "Cell \u001b[0;32mIn[6], line 3\u001b[0m\n\u001b[1;32m      1\u001b[0m hpm \u001b[38;5;241m=\u001b[39m Product([\n\u001b[1;32m      2\u001b[0m     Stiefel(n, n),\n\u001b[0;32m----> 3\u001b[0m     Product([\n\u001b[1;32m      4\u001b[0m         Product([\n\u001b[1;32m      5\u001b[0m             Grassmann(\u001b[38;5;241m2\u001b[39m, \u001b[38;5;241m1\u001b[39m),\n\u001b[1;32m      6\u001b[0m             Euclidean((\u001b[38;5;241m1\u001b[39m,))\n\u001b[1;32m      7\u001b[0m         ])\n\u001b[1;32m      8\u001b[0m         \u001b[38;5;28;01mfor\u001b[39;00m i \u001b[38;5;129;01min\u001b[39;00m \u001b[38;5;28mrange\u001b[39m(\u001b[38;5;28mint\u001b[39m(n\u001b[38;5;241m/\u001b[39m\u001b[38;5;241m2\u001b[39m))\n\u001b[1;32m      9\u001b[0m     ]),\n\u001b[1;32m     10\u001b[0m     Product([\n\u001b[1;32m     11\u001b[0m         Euclidean((n\u001b[38;5;241m-\u001b[39m\u001b[38;5;241m2\u001b[39m\u001b[38;5;241m-\u001b[39mi,))\n\u001b[1;32m     12\u001b[0m         \u001b[38;5;28;01mfor\u001b[39;00m i \u001b[38;5;129;01min\u001b[39;00m \u001b[38;5;28mrange\u001b[39m(n\u001b[38;5;241m-\u001b[39m\u001b[38;5;241m2\u001b[39m)\n\u001b[1;32m     13\u001b[0m     ])            \n\u001b[1;32m     14\u001b[0m ])\n",
      "File \u001b[0;32m~/anaconda3/envs/dspy311/lib/python3.11/site-packages/pymanopt/manifolds/product.py:25\u001b[0m, in \u001b[0;36mProduct.__init__\u001b[0;34m(self, manifolds)\u001b[0m\n\u001b[1;32m     23\u001b[0m \u001b[38;5;28;01mfor\u001b[39;00m manifold \u001b[38;5;129;01min\u001b[39;00m manifolds:\n\u001b[1;32m     24\u001b[0m     \u001b[38;5;28;01mif\u001b[39;00m \u001b[38;5;28misinstance\u001b[39m(manifold, Product):\n\u001b[0;32m---> 25\u001b[0m         \u001b[38;5;28;01mraise\u001b[39;00m \u001b[38;5;167;01mValueError\u001b[39;00m(\u001b[38;5;124m\"\u001b[39m\u001b[38;5;124mNested product manifolds are not supported\u001b[39m\u001b[38;5;124m\"\u001b[39m)\n\u001b[1;32m     26\u001b[0m \u001b[38;5;28mself\u001b[39m\u001b[38;5;241m.\u001b[39mmanifolds \u001b[38;5;241m=\u001b[39m \u001b[38;5;28mtuple\u001b[39m(manifolds)\n\u001b[1;32m     27\u001b[0m manifold_names \u001b[38;5;241m=\u001b[39m \u001b[38;5;124m\"\u001b[39m\u001b[38;5;124m x \u001b[39m\u001b[38;5;124m\"\u001b[39m\u001b[38;5;241m.\u001b[39mjoin([\u001b[38;5;28mstr\u001b[39m(manifold) \u001b[38;5;28;01mfor\u001b[39;00m manifold \u001b[38;5;129;01min\u001b[39;00m manifolds])\n",
      "\u001b[0;31mValueError\u001b[0m: Nested product manifolds are not supported"
     ]
    }
   ],
   "source": [
    "hpm = Product([\n",
    "    Stiefel(n, n),\n",
    "    Product([\n",
    "        Product([\n",
    "            Grassmann(2, 1),\n",
    "            Euclidean((1,))\n",
    "        ])\n",
    "        for i in range(int(n/2))\n",
    "    ]),\n",
    "    Product([\n",
    "        Euclidean((n-2-i,))\n",
    "        for i in range(n-2)\n",
    "    ])            \n",
    "])"
   ]
  },
  {
   "cell_type": "code",
   "execution_count": null,
   "id": "6efcf80f",
   "metadata": {},
   "outputs": [],
   "source": [
    "def schur_construct(Q: np.array, T: np.array):\n",
    "    \"\"\"_summary_\n",
    "\n",
    "    Args:\n",
    "        Q (np.array): orthonormal array\n",
    "        T (np.array): upper hessenberg array with necessary block diagonal structure\n",
    "    \"\"\"\n",
    "\n",
    "    return \n",
    "\n"
   ]
  }
 ],
 "metadata": {
  "kernelspec": {
   "display_name": "dspy311",
   "language": "python",
   "name": "python3"
  },
  "language_info": {
   "codemirror_mode": {
    "name": "ipython",
    "version": 3
   },
   "file_extension": ".py",
   "mimetype": "text/x-python",
   "name": "python",
   "nbconvert_exporter": "python",
   "pygments_lexer": "ipython3",
   "version": "3.11.0"
  }
 },
 "nbformat": 4,
 "nbformat_minor": 5
}
