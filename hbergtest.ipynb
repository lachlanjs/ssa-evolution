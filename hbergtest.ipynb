{
 "cells": [
  {
   "cell_type": "code",
   "execution_count": 241,
   "id": "11b1f075",
   "metadata": {},
   "outputs": [],
   "source": [
    "import numpy as np\n",
    "import matplotlib.pyplot as plt\n",
    "from shpm2 import Hberg"
   ]
  },
  {
   "cell_type": "code",
   "execution_count": 242,
   "id": "1e21fbc6",
   "metadata": {},
   "outputs": [],
   "source": [
    "hberg1 = Hberg(100)"
   ]
  },
  {
   "cell_type": "code",
   "execution_count": 243,
   "id": "c1c1e569",
   "metadata": {},
   "outputs": [
    {
     "name": "stdout",
     "output_type": "stream",
     "text": [
      "merged\n",
      "merged\n",
      "merged\n",
      "split\n",
      "split\n",
      "split\n",
      "split\n",
      "split\n",
      "split\n"
     ]
    }
   ],
   "source": [
    "p = hberg1.random_point()\n",
    "p_ = hberg1.mutate(p, 0.1, verbose=True)"
   ]
  },
  {
   "cell_type": "code",
   "execution_count": 244,
   "id": "b5ad1f32",
   "metadata": {},
   "outputs": [],
   "source": [
    "pc = hberg1.crossover(p, p_)"
   ]
  },
  {
   "cell_type": "code",
   "execution_count": 245,
   "id": "dabdbf15",
   "metadata": {},
   "outputs": [
    {
     "data": {
      "text/plain": [
       "[[1, array([-0.00671176])],\n",
       " [1, array([-0.49176714])],\n",
       " [2, array([-0.84486177,  1.03273131])],\n",
       " [1, array([0.39203846])],\n",
       " [2, array([-0.40748473,  0.65432112])],\n",
       " [1, array([0.94173605])],\n",
       " [1, array([-0.34652936])],\n",
       " [1, array([-0.39612341])],\n",
       " [2, array([-1.29678057,  0.43847627])],\n",
       " [1, array([-0.17910883])],\n",
       " [2, array([-0.29357961, -0.57599633])],\n",
       " [1, array([0.27065031])],\n",
       " [1, array([0.40053954])],\n",
       " [1, array([2.02050198])],\n",
       " [2, array([-0.51491824,  1.03391004])],\n",
       " [2, array([0.85332243, 0.30741219])],\n",
       " [1, array([0.59134])],\n",
       " [1, array([0.3413393])],\n",
       " [2, array([1.19034757, 0.25889256])],\n",
       " [1, array([-0.59790959])],\n",
       " [2, array([0.06404634, 0.86459168])],\n",
       " [1, array([0.46160755])],\n",
       " [1, array([1.19951648])],\n",
       " [1, array([0.77641278])],\n",
       " [1, array([-1.22943651])],\n",
       " [1, array([0.26724857])],\n",
       " [1, array([0.78030211])],\n",
       " [1, array([-0.74897941])],\n",
       " [1, array([-0.86682987])],\n",
       " [2, array([-1.03421265, -0.32986398])],\n",
       " [1, array([-0.22894049])],\n",
       " [2, array([-0.28244095,  1.02917092])],\n",
       " [1, array([0.06888474])],\n",
       " [1, array([-0.48819428])],\n",
       " [2, array([-0.10867765,  0.27560059])],\n",
       " [1, array([-0.56377773])],\n",
       " [1, array([0.78585204])],\n",
       " [1, array([0.88991236])],\n",
       " [1, array([-0.22289887])],\n",
       " [1, array([0.77324123])],\n",
       " [1, array([-1.41567088])],\n",
       " [2, array([1.99757438, 1.40478881])],\n",
       " [1, array([0.31371666])],\n",
       " [1, array([0.58652637])],\n",
       " [2, array([-0.94772323, -0.2703391 ])],\n",
       " [1, array([-0.28576434])],\n",
       " [1, array([-0.08014698])],\n",
       " [1, array([0.70394889])],\n",
       " [2, array([-0.18483733,  1.03072391])],\n",
       " [1, array([-0.07567156])],\n",
       " [2, array([ 1.59992805, -0.93468458])],\n",
       " [2, array([-1.1319324 ,  1.37940598])],\n",
       " [1, array([-0.03258638])],\n",
       " [2, array([-1.15664441,  0.68310495])],\n",
       " [1, array([1.41449188])],\n",
       " [1, array([0.35060427])],\n",
       " [2, array([0.24765349, 0.55411097])],\n",
       " [1, array([-1.25107228])],\n",
       " [2, array([-1.14213298, -1.3945525 ])],\n",
       " [1, array([-0.57617832])],\n",
       " [1, array([-0.98940222])],\n",
       " [2, array([-0.17227937,  1.23289416])],\n",
       " [1, array([-0.92016515])],\n",
       " [2, array([ 1.5558533 , -0.49202624])],\n",
       " [1, array([-0.54601638])],\n",
       " [2, array([-0.05349831, -1.77883998])],\n",
       " [1, array([2.33883121])],\n",
       " [2, array([-1.64832008,  2.45014482])],\n",
       " [2, array([0.35890134, 1.31167387])],\n",
       " [2, array([0.31236478, 0.17568803])],\n",
       " [1, array([0.85345762])],\n",
       " [2, array([-0.73210818, -0.07441088])],\n",
       " [1, array([-1.18334525])],\n",
       " [1, array([-0.23713862])]]"
      ]
     },
     "execution_count": 245,
     "metadata": {},
     "output_type": "execute_result"
    }
   ],
   "source": [
    "p[2]"
   ]
  },
  {
   "cell_type": "code",
   "execution_count": 246,
   "id": "f5cc42c8",
   "metadata": {},
   "outputs": [
    {
     "data": {
      "text/plain": [
       "[[1, array([-0.05949])],\n",
       " [1, array([-0.4389889])],\n",
       " [1, array([-0.9426999])],\n",
       " [1, array([-0.9259094])],\n",
       " [1, array([0.33926022])],\n",
       " [2, array([-0.35541832,  0.66296006])],\n",
       " [1, array([0.88895781])],\n",
       " [1, array([-0.47380577])],\n",
       " [1, array([-0.4535512])],\n",
       " [2, array([-1.34954703,  0.4395912 ])],\n",
       " [1, array([-0.23188707])],\n",
       " [1, array([-0.43057754])],\n",
       " [1, array([-0.26952596])],\n",
       " [1, array([0.21787207])],\n",
       " [1, array([0.45331778])],\n",
       " [1, array([2.07328022])],\n",
       " [2, array([-0.52166613,  0.98156494])],\n",
       " [2, array([0.81404288, 0.34266358])],\n",
       " [1, array([0.53856176])],\n",
       " [1, array([0.39411754])],\n",
       " [2, array([1.15858549, 0.21674149])],\n",
       " [1, array([-0.54513135])],\n",
       " [2, array([0.09169441, 0.90954863])],\n",
       " [1, array([0.51438579])],\n",
       " [1, array([1.25229472])],\n",
       " [1, array([0.82919102])],\n",
       " [1, array([-1.17665827])],\n",
       " [1, array([0.43471309])],\n",
       " [1, array([0.5725979])],\n",
       " [2, array([-0.86068288,  0.03391062])],\n",
       " [2, array([-1.0515405 , -0.37971664])],\n",
       " [1, array([-0.28171873])],\n",
       " [2, array([-0.31503097,  0.98765666])],\n",
       " [1, array([0.01610649])],\n",
       " [1, array([-0.43541604])],\n",
       " [1, array([-0.04821417])],\n",
       " [1, array([-0.07837097])],\n",
       " [1, array([-0.51099949])],\n",
       " [1, array([0.83863028])],\n",
       " [1, array([0.83713411])],\n",
       " [1, array([-0.27567711])],\n",
       " [1, array([0.82601947])],\n",
       " [1, array([-1.36289264])],\n",
       " [2, array([2.04067432, 1.37432673])],\n",
       " [1, array([0.26093842])],\n",
       " [1, array([0.53374813])],\n",
       " [2, array([-0.99796746, -0.25418174])],\n",
       " [1, array([-0.33854258])],\n",
       " [1, array([-0.13292522])],\n",
       " [1, array([0.65117065])],\n",
       " [2, array([-0.13227272,  1.02598003])],\n",
       " [1, array([-0.02289331])],\n",
       " [2, array([ 1.5761205 , -0.88758105])],\n",
       " [2, array([-1.18408393,  1.37129664])],\n",
       " [1, array([-0.08536462])],\n",
       " [2, array([-1.15911722,  0.63038467])],\n",
       " [1, array([1.36171364])],\n",
       " [1, array([0.29782603])],\n",
       " [2, array([0.24725701, 0.60688772])],\n",
       " [1, array([-1.19829404])],\n",
       " [2, array([-1.13423523, -1.44673649])],\n",
       " [1, array([-0.62895656])],\n",
       " [1, array([-1.04218046])],\n",
       " [2, array([-0.12231954,  1.24991059])],\n",
       " [1, array([-0.97294339])],\n",
       " [2, array([ 1.53729557, -0.44261821])],\n",
       " [1, array([-0.59879462])],\n",
       " [2, array([-0.10584964, -1.78553928])],\n",
       " [1, array([2.28605297])],\n",
       " [1, array([-1.68713319])],\n",
       " [1, array([-1.75183633])],\n",
       " [2, array([0.31482537, 1.28264196])],\n",
       " [2, array([0.26510224, 0.15219771])],\n",
       " [1, array([0.90623586])],\n",
       " [2, array([-0.72018378, -0.02299734])],\n",
       " [1, array([-1.23612349])],\n",
       " [1, array([-0.18436038])]]"
      ]
     },
     "execution_count": 246,
     "metadata": {},
     "output_type": "execute_result"
    }
   ],
   "source": [
    "p_[2]"
   ]
  },
  {
   "cell_type": "code",
   "execution_count": 247,
   "id": "11283404",
   "metadata": {},
   "outputs": [
    {
     "data": {
      "text/plain": [
       "[(1, array([-0.03310088])),\n",
       " (1, array([-0.46537802])),\n",
       " [1, array([-0.9426999])],\n",
       " [1, array([-0.9259094])],\n",
       " (1, array([0.36564934])),\n",
       " (2, array([-0.38145152,  0.65864059])),\n",
       " (1, array([0.91534693])),\n",
       " (1, array([-0.41016757])),\n",
       " (1, array([-0.42483731])),\n",
       " (2, array([-1.3231638 ,  0.43903374])),\n",
       " (1, array([-0.20549795])),\n",
       " [2, array([-0.29357961, -0.57599633])],\n",
       " (1, array([0.24426119])),\n",
       " (1, array([0.42692866])),\n",
       " (1, array([2.0468911])),\n",
       " (2, array([-0.51829219,  1.00773749])),\n",
       " (2, array([0.83368266, 0.32503789])),\n",
       " (1, array([0.56495088])),\n",
       " (1, array([0.36772842])),\n",
       " (2, array([1.17446653, 0.23781703])),\n",
       " (1, array([-0.57152047])),\n",
       " (2, array([0.07787038, 0.88707016])),\n",
       " (1, array([0.48799667])),\n",
       " (1, array([1.2259056])),\n",
       " (1, array([0.8028019])),\n",
       " (1, array([-1.20304739])),\n",
       " (1, array([0.35098083])),\n",
       " (1, array([0.67645001])),\n",
       " [1, array([-0.74897941])],\n",
       " [1, array([-0.86682987])],\n",
       " (2, array([-1.04287657, -0.35479031])),\n",
       " (1, array([-0.25532961])),\n",
       " (2, array([-0.29873596,  1.00841379])),\n",
       " (1, array([0.04249562])),\n",
       " (1, array([-0.46180516])),\n",
       " [1, array([-0.04821417])],\n",
       " [1, array([-0.07837097])],\n",
       " (1, array([-0.53738861])),\n",
       " (1, array([0.81224116])),\n",
       " (1, array([0.86352324])),\n",
       " (1, array([-0.24928799])),\n",
       " (1, array([0.79963035])),\n",
       " (1, array([-1.38928176])),\n",
       " (2, array([2.01912435, 1.38955777])),\n",
       " (1, array([0.28732754])),\n",
       " (1, array([0.56013725])),\n",
       " (2, array([-0.97284535, -0.26226042])),\n",
       " (1, array([-0.31215346])),\n",
       " (1, array([-0.1065361])),\n",
       " (1, array([0.67755977])),\n",
       " (2, array([-0.15855502,  1.02835197])),\n",
       " (1, array([-0.04928244])),\n",
       " (2, array([ 1.58802427, -0.91113281])),\n",
       " (2, array([-1.15800816,  1.37535131])),\n",
       " (1, array([-0.0589755])),\n",
       " (2, array([-1.15788081,  0.65674481])),\n",
       " (1, array([1.38810276])),\n",
       " (1, array([0.32421515])),\n",
       " (2, array([0.24745525, 0.58049934])),\n",
       " (1, array([-1.22468316])),\n",
       " (2, array([-1.13818411, -1.4206445 ])),\n",
       " (1, array([-0.60256744])),\n",
       " (1, array([-1.01579134])),\n",
       " (2, array([-0.14729945,  1.24140238])),\n",
       " (1, array([-0.94655427])),\n",
       " (2, array([ 1.54657444, -0.46732223])),\n",
       " (1, array([-0.5724055])),\n",
       " (2, array([-0.07967397, -1.78218963])),\n",
       " (1, array([2.31244209])),\n",
       " [1, array([-1.68713319])],\n",
       " [1, array([-1.75183633])],\n",
       " (2, array([0.33686336, 1.29715791])),\n",
       " (2, array([0.28873351, 0.16394287])),\n",
       " (1, array([0.87984674])),\n",
       " (2, array([-0.72614598, -0.04870411])),\n",
       " (1, array([-1.20973437])),\n",
       " (1, array([-0.2107495]))]"
      ]
     },
     "execution_count": 247,
     "metadata": {},
     "output_type": "execute_result"
    }
   ],
   "source": [
    "pc[2]"
   ]
  },
  {
   "cell_type": "code",
   "execution_count": 248,
   "id": "d9b7c4d8",
   "metadata": {},
   "outputs": [],
   "source": [
    "A = hberg1.assemble(p)\n",
    "A_ = hberg1.assemble(p_)\n",
    "Ac = hberg1.assemble(pc)"
   ]
  },
  {
   "cell_type": "code",
   "execution_count": 249,
   "id": "94f0a534",
   "metadata": {},
   "outputs": [],
   "source": [
    "eigs = np.linalg.eigvals(A)\n",
    "eigs_ = np.linalg.eigvals(A_)\n",
    "eigsc = np.linalg.eigvals(Ac)"
   ]
  },
  {
   "cell_type": "code",
   "execution_count": 250,
   "id": "61629765",
   "metadata": {},
   "outputs": [
    {
     "data": {
      "image/png": "[encoded data removed]",
      "text/plain": [
       "<Figure size 640x480 with 1 Axes>"
      ]
     },
     "metadata": {},
     "output_type": "display_data"
    }
   ],
   "source": [
    "plt.scatter(np.real(eigs), np.imag(eigs))\n",
    "plt.xlim((np.min(np.real(eigs)), 1.0))\n",
    "plt.ylim((-5.0, 5.0))\n",
    "plt.vlines([0.0], ymin=-5.0, ymax=5.0, colors=\"black\", linestyles=\"--\")\n",
    "plt.show()"
   ]
  },
  {
   "cell_type": "code",
   "execution_count": 251,
   "id": "48a5380e",
   "metadata": {},
   "outputs": [
    {
     "data": {
      "image/png": "[encoded data removed]",
      "text/plain": [
       "<Figure size 640x480 with 1 Axes>"
      ]
     },
     "metadata": {},
     "output_type": "display_data"
    }
   ],
   "source": [
    "plt.scatter(np.real(eigs_), np.imag(eigs_))\n",
    "plt.xlim((np.min(np.real(eigs_)), 1.0))\n",
    "plt.ylim((-5.0, 5.0))\n",
    "plt.vlines([0.0], ymin=-5.0, ymax=5.0, colors=\"black\", linestyles=\"--\")\n",
    "plt.show()"
   ]
  },
  {
   "cell_type": "code",
   "execution_count": 252,
   "id": "9092b999",
   "metadata": {},
   "outputs": [
    {
     "data": {
      "image/png": "[encoded data removed]",
      "text/plain": [
       "<Figure size 640x480 with 1 Axes>"
      ]
     },
     "metadata": {},
     "output_type": "display_data"
    }
   ],
   "source": [
    "plt.scatter(np.real(eigsc), np.imag(eigsc))\n",
    "plt.xlim((np.min(np.real(eigsc)), 1.0))\n",
    "plt.ylim((-5.0, 5.0))\n",
    "plt.vlines([0.0], ymin=-5.0, ymax=5.0, colors=\"black\", linestyles=\"--\")\n",
    "plt.show()"
   ]
  }
 ],
 "metadata": {
  "kernelspec": {
   "display_name": "dspy311",
   "language": "python",
   "name": "python3"
  },
  "language_info": {
   "codemirror_mode": {
    "name": "ipython",
    "version": 3
   },
   "file_extension": ".py",
   "mimetype": "text/x-python",
   "name": "python",
   "nbconvert_exporter": "python",
   "pygments_lexer": "ipython3",
   "version": "3.12.0"
  }
 },
 "nbformat": 4,
 "nbformat_minor": 5
}
