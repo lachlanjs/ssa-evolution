{
 "cells": [
  {
   "cell_type": "code",
   "execution_count": null,
   "id": "3a204fe5",
   "metadata": {},
   "outputs": [],
   "source": [
    "import numpy as np\n",
    "from shpm2 import SHPM\n",
    "from evo import evo_alg_speciated\n",
    "import matplotlib.pyplot as plt\n",
    "\n",
    "from copy import deepcopy\n",
    "from plotutils import plot_matrix_grid, plot_matrix_spectra"
   ]
  },
  {
   "cell_type": "code",
   "execution_count": null,
   "id": "f790f3fd",
   "metadata": {},
   "outputs": [],
   "source": [
    "random.seed(42)"
   ]
  },
  {
   "cell_type": "code",
   "execution_count": null,
   "id": "e212fe3b",
   "metadata": {},
   "outputs": [],
   "source": [
    "# general parameters\n",
    "n = 10\n",
    "species_distance = 0.2\n",
    "max_iters = 800"
   ]
  },
  {
   "cell_type": "code",
   "execution_count": null,
   "id": "73b7ec3d",
   "metadata": {},
   "outputs": [],
   "source": [
    "shpm = SHPM(\n",
    "    n,\n",
    "    Q_sep = 0.3,\n",
    "    UT_sep = 0.3,\n",
    "    HD_sep = 0.5\n",
    ")"
   ]
  },
  {
   "cell_type": "code",
   "execution_count": null,
   "id": "f6662062",
   "metadata": {},
   "outputs": [],
   "source": [
    "# generate a random target matrix\n",
    "P_target = shpm.random_point()\n",
    "A_target = shpm.assemble(P_target)\n",
    "A_target_norm = np.linalg.norm(A_target)\n",
    "H_target = shpm.hberg.assemble(P_target[1])\n",
    "Q_target = P_target[0]"
   ]
  },
  {
   "cell_type": "code",
   "execution_count": null,
   "id": "d7d7c003",
   "metadata": {},
   "outputs": [],
   "source": [
    "def objective(p):\n",
    "    A = shpm.assemble(p)    \n",
    "    A_norm = np.linalg.norm(A)\n",
    "\n",
    "    distance = np.linalg.norm(A - A_target) / A_target_norm\n",
    "    return distance\n",
    "\n",
    "def same_species(p_a, p_b):\n",
    "\n",
    "    \n",
    "\n",
    "    return"
   ]
  },
  {
   "cell_type": "code",
   "execution_count": null,
   "id": "860869ba",
   "metadata": {},
   "outputs": [],
   "source": [
    "# create seed:\n",
    "seed = shpm.random_point()"
   ]
  },
  {
   "cell_type": "code",
   "execution_count": null,
   "id": "49ab9d48",
   "metadata": {},
   "outputs": [],
   "source": [
    "# run evolutionary algorithm?\n",
    "population, raw_fitnesses = evo_alg_speciated(\n",
    "    seed, 100, objective, shpm.mutate, shpm.crossover, shpm.same_species \n",
    ")"
   ]
  }
 ],
 "metadata": {
  "kernelspec": {
   "display_name": "dspy312",
   "language": "python",
   "name": "python3"
  },
  "language_info": {
   "codemirror_mode": {
    "name": "ipython",
    "version": 3
   },
   "file_extension": ".py",
   "mimetype": "text/x-python",
   "name": "python",
   "nbconvert_exporter": "python",
   "pygments_lexer": "ipython3",
   "version": "3.12.0"
  }
 },
 "nbformat": 4,
 "nbformat_minor": 5
}
