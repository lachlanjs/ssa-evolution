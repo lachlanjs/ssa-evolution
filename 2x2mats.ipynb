{
 "cells": [
  {
   "cell_type": "code",
   "execution_count": 164,
   "id": "4678375a",
   "metadata": {},
   "outputs": [],
   "source": [
    "import numpy as np\n",
    "\n",
    "from ssa import optimize_ssa\n",
    "\n",
    "import matplotlib.pyplot as plt\n"
   ]
  },
  {
   "cell_type": "code",
   "execution_count": 165,
   "id": "4a8beef6",
   "metadata": {},
   "outputs": [],
   "source": [
    "eps = 0.02\n",
    "target=-0.1"
   ]
  },
  {
   "cell_type": "code",
   "execution_count": 166,
   "id": "fc442286",
   "metadata": {},
   "outputs": [],
   "source": [
    "def gen_rand2x2():\n",
    "\n",
    "    return np.array([[0, -np.exp(np.random.normal())], [np.exp(np.random.normal()), -np.exp(np.random.normal())]])\n",
    "\n",
    "def rand2x2negeigs():\n",
    "\n",
    "    return optimize_ssa(np.random.normal(0.0, 1.0, (2, 2)), eps, target, 0.8, iters=50)"
   ]
  },
  {
   "cell_type": "code",
   "execution_count": 167,
   "id": "b7b99d09",
   "metadata": {},
   "outputs": [
    {
     "data": {
      "text/plain": [
       "array([-0.13084888+0.94934753j, -0.13084888-0.94934753j])"
      ]
     },
     "execution_count": 167,
     "metadata": {},
     "output_type": "execute_result"
    }
   ],
   "source": [
    "A, s_abscs, ss_abscs = rand2x2negeigs()\n",
    "np.linalg.eigvals(A)"
   ]
  },
  {
   "cell_type": "code",
   "execution_count": 168,
   "id": "505e0735",
   "metadata": {},
   "outputs": [
    {
     "data": {
      "text/plain": [
       "[<matplotlib.lines.Line2D at 0x10b4f6a10>]"
      ]
     },
     "execution_count": 168,
     "metadata": {},
     "output_type": "execute_result"
    },
    {
     "data": {
      "image/png": "[encoded data removed]",
      "text/plain": [
       "<Figure size 640x480 with 1 Axes>"
      ]
     },
     "metadata": {},
     "output_type": "display_data"
    }
   ],
   "source": [
    "plt.plot(s_abscs)"
   ]
  },
  {
   "cell_type": "code",
   "execution_count": 169,
   "id": "06f6215c",
   "metadata": {},
   "outputs": [],
   "source": [
    "ls = np.linalg.eigvals(A)"
   ]
  },
  {
   "cell_type": "code",
   "execution_count": 170,
   "id": "fe90b53b",
   "metadata": {},
   "outputs": [],
   "source": [
    "B = np.array([[0, np.real(-ls[0] * ls[1])], [1, np.real(ls[0] + ls[1])]])"
   ]
  },
  {
   "cell_type": "code",
   "execution_count": 171,
   "id": "d630600d",
   "metadata": {},
   "outputs": [
    {
     "data": {
      "text/plain": [
       "array([[ 0.        , -0.91838215],\n",
       "       [ 1.        , -0.26169776]])"
      ]
     },
     "execution_count": 171,
     "metadata": {},
     "output_type": "execute_result"
    }
   ],
   "source": [
    "B"
   ]
  },
  {
   "cell_type": "code",
   "execution_count": 172,
   "id": "86bce65e",
   "metadata": {},
   "outputs": [
    {
     "data": {
      "text/plain": [
       "array([-0.13084888+0.94934753j, -0.13084888-0.94934753j])"
      ]
     },
     "execution_count": 172,
     "metadata": {},
     "output_type": "execute_result"
    }
   ],
   "source": [
    "np.linalg.eigvals(B)"
   ]
  },
  {
   "cell_type": "code",
   "execution_count": 173,
   "id": "81a40e74",
   "metadata": {},
   "outputs": [],
   "source": [
    "Q = A @ np.linalg.inv(B)"
   ]
  },
  {
   "cell_type": "code",
   "execution_count": 177,
   "id": "5b5eeb3e",
   "metadata": {},
   "outputs": [
    {
     "data": {
      "text/plain": [
       "array([[ 1.59748017, -2.02894009],\n",
       "       [-2.02894009,  3.20291793]])"
      ]
     },
     "execution_count": 177,
     "metadata": {},
     "output_type": "execute_result"
    }
   ],
   "source": [
    "Q.T @ Q"
   ]
  }
 ],
 "metadata": {
  "kernelspec": {
   "display_name": "dspy311",
   "language": "python",
   "name": "python3"
  },
  "language_info": {
   "codemirror_mode": {
    "name": "ipython",
    "version": 3
   },
   "file_extension": ".py",
   "mimetype": "text/x-python",
   "name": "python",
   "nbconvert_exporter": "python",
   "pygments_lexer": "ipython3",
   "version": "3.11.0"
  }
 },
 "nbformat": 4,
 "nbformat_minor": 5
}
